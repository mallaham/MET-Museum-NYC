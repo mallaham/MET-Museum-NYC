{
 "cells": [
  {
   "cell_type": "markdown",
   "metadata": {},
   "source": [
    "### By: Mowafak Allaham\n",
    "In this notebook I'm interested in answering the following questions:\n",
    "\n",
    "- Where are the artworks displayed at the MET are coming from?\n",
    "- Which artists is the MET interested in?\n",
    "- Which department hosts the largest number of artworks?\n",
    "###### note: all pie charts are interactive!\n"
   ]
  },
  {
   "cell_type": "code",
   "execution_count": 1,
   "metadata": {
    "collapsed": false
   },
   "outputs": [],
   "source": [
    "import pandas as pd\n",
    "import numpy as np\n",
    "import matplotlib.pyplot as plt\n",
    "import seaborn as sns\n",
    "import warnings\n",
    "warnings.filterwarnings('ignore')"
   ]
  },
  {
   "cell_type": "code",
   "execution_count": 2,
   "metadata": {
    "collapsed": false
   },
   "outputs": [],
   "source": [
    "data = pd.read_csv('../input/MetObjects.csv')"
   ]
  },
  {
   "cell_type": "code",
   "execution_count": 3,
   "metadata": {
    "collapsed": false,
    "scrolled": true
   },
   "outputs": [
    {
     "name": "stdout",
     "output_type": "stream",
     "text": [
      "<class 'pandas.core.frame.DataFrame'>\n",
      "RangeIndex: 448203 entries, 0 to 448202\n",
      "Data columns (total 43 columns):\n",
      "﻿Object Number             448203 non-null object\n",
      "Is Highlight               448203 non-null bool\n",
      "Is Public Domain           448203 non-null bool\n",
      "Object ID                  448203 non-null int64\n",
      "Department                 448203 non-null object\n",
      "Object Name                445568 non-null object\n",
      "Title                      416906 non-null object\n",
      "Culture                    186518 non-null object\n",
      "Period                     71882 non-null object\n",
      "Dynasty                    23018 non-null object\n",
      "Reign                      10817 non-null object\n",
      "Portfolio                  20370 non-null object\n",
      "Artist Role                259909 non-null object\n",
      "Artist Prefix              88928 non-null object\n",
      "Artist Display Name        261111 non-null object\n",
      "Artist Display Bio         224064 non-null object\n",
      "Artist Suffix              10212 non-null object\n",
      "Artist Alpha Sort          261088 non-null object\n",
      "Artist Nationality         196132 non-null object\n",
      "Artist Begin Date          215234 non-null object\n",
      "Artist End Date            212825 non-null object\n",
      "Object Date                432609 non-null object\n",
      "Object Begin Date          448203 non-null int64\n",
      "Object End Date            448203 non-null int64\n",
      "Medium                     440155 non-null object\n",
      "Dimensions                 385360 non-null object\n",
      "Credit Line                447533 non-null object\n",
      "Geography Type             58463 non-null object\n",
      "City                       30520 non-null object\n",
      "State                      8360 non-null object\n",
      "County                     2488 non-null object\n",
      "Country                    74450 non-null object\n",
      "Region                     31078 non-null object\n",
      "Subregion                  21716 non-null object\n",
      "Locale                     15095 non-null object\n",
      "Locus                      6939 non-null object\n",
      "Excavation                 15519 non-null object\n",
      "River                      2103 non-null object\n",
      "Classification             389924 non-null object\n",
      "Rights and Reproduction    22975 non-null object\n",
      "Link Resource              448203 non-null object\n",
      "Metadata Date              448203 non-null object\n",
      "Repository                 448203 non-null object\n",
      "dtypes: bool(2), int64(3), object(38)\n",
      "memory usage: 141.1+ MB\n"
     ]
    }
   ],
   "source": [
    "data.info()"
   ]
  },
  {
   "cell_type": "markdown",
   "metadata": {},
   "source": [
    "# Where are the artworks are coming from?"
   ]
  },
  {
   "cell_type": "code",
   "execution_count": 4,
   "metadata": {
    "collapsed": false,
    "scrolled": true
   },
   "outputs": [
    {
     "data": {
      "text/html": [
       "<div>\n",
       "<table border=\"1\" class=\"dataframe\">\n",
       "  <thead>\n",
       "    <tr style=\"text-align: right;\">\n",
       "      <th></th>\n",
       "      <th>Count</th>\n",
       "      <th>Country</th>\n",
       "    </tr>\n",
       "  </thead>\n",
       "  <tbody>\n",
       "    <tr>\n",
       "      <th>0</th>\n",
       "      <td>30914</td>\n",
       "      <td>Egypt</td>\n",
       "    </tr>\n",
       "    <tr>\n",
       "      <th>1</th>\n",
       "      <td>8501</td>\n",
       "      <td>United States</td>\n",
       "    </tr>\n",
       "    <tr>\n",
       "      <th>2</th>\n",
       "      <td>5886</td>\n",
       "      <td>Iran</td>\n",
       "    </tr>\n",
       "    <tr>\n",
       "      <th>3</th>\n",
       "      <td>3422</td>\n",
       "      <td>Peru</td>\n",
       "    </tr>\n",
       "    <tr>\n",
       "      <th>4</th>\n",
       "      <td>1673</td>\n",
       "      <td>Byzantine Egypt</td>\n",
       "    </tr>\n",
       "    <tr>\n",
       "      <th>5</th>\n",
       "      <td>1670</td>\n",
       "      <td>France</td>\n",
       "    </tr>\n",
       "    <tr>\n",
       "      <th>6</th>\n",
       "      <td>1537</td>\n",
       "      <td>Mexico</td>\n",
       "    </tr>\n",
       "    <tr>\n",
       "      <th>7</th>\n",
       "      <td>1440</td>\n",
       "      <td>India</td>\n",
       "    </tr>\n",
       "    <tr>\n",
       "      <th>8</th>\n",
       "      <td>1394</td>\n",
       "      <td>Indonesia</td>\n",
       "    </tr>\n",
       "    <tr>\n",
       "      <th>9</th>\n",
       "      <td>1059</td>\n",
       "      <td>England</td>\n",
       "    </tr>\n",
       "    <tr>\n",
       "      <th>10</th>\n",
       "      <td>918</td>\n",
       "      <td>China</td>\n",
       "    </tr>\n",
       "    <tr>\n",
       "      <th>11</th>\n",
       "      <td>888</td>\n",
       "      <td>Germany</td>\n",
       "    </tr>\n",
       "    <tr>\n",
       "      <th>12</th>\n",
       "      <td>851</td>\n",
       "      <td>Papua New Guinea</td>\n",
       "    </tr>\n",
       "    <tr>\n",
       "      <th>13</th>\n",
       "      <td>826</td>\n",
       "      <td>Turkey</td>\n",
       "    </tr>\n",
       "    <tr>\n",
       "      <th>14</th>\n",
       "      <td>637</td>\n",
       "      <td>Nigeria</td>\n",
       "    </tr>\n",
       "    <tr>\n",
       "      <th>15</th>\n",
       "      <td>523</td>\n",
       "      <td>Italy</td>\n",
       "    </tr>\n",
       "    <tr>\n",
       "      <th>16</th>\n",
       "      <td>519</td>\n",
       "      <td>Democratic Republic of the Congo</td>\n",
       "    </tr>\n",
       "    <tr>\n",
       "      <th>17</th>\n",
       "      <td>480</td>\n",
       "      <td>Syria</td>\n",
       "    </tr>\n",
       "    <tr>\n",
       "      <th>18</th>\n",
       "      <td>441</td>\n",
       "      <td>Spain</td>\n",
       "    </tr>\n",
       "    <tr>\n",
       "      <th>19</th>\n",
       "      <td>397</td>\n",
       "      <td>Iraq</td>\n",
       "    </tr>\n",
       "    <tr>\n",
       "      <th>20</th>\n",
       "      <td>391</td>\n",
       "      <td>Canada</td>\n",
       "    </tr>\n",
       "    <tr>\n",
       "      <th>21</th>\n",
       "      <td>353</td>\n",
       "      <td>Mali</td>\n",
       "    </tr>\n",
       "    <tr>\n",
       "      <th>22</th>\n",
       "      <td>336</td>\n",
       "      <td>Colombia</td>\n",
       "    </tr>\n",
       "    <tr>\n",
       "      <th>23</th>\n",
       "      <td>302</td>\n",
       "      <td>Côte d'Ivoire</td>\n",
       "    </tr>\n",
       "    <tr>\n",
       "      <th>24</th>\n",
       "      <td>300</td>\n",
       "      <td>Egypt or Syria</td>\n",
       "    </tr>\n",
       "    <tr>\n",
       "      <th>25</th>\n",
       "      <td>278</td>\n",
       "      <td>America</td>\n",
       "    </tr>\n",
       "    <tr>\n",
       "      <th>26</th>\n",
       "      <td>250</td>\n",
       "      <td>Cameroon</td>\n",
       "    </tr>\n",
       "    <tr>\n",
       "      <th>27</th>\n",
       "      <td>238</td>\n",
       "      <td>Japan</td>\n",
       "    </tr>\n",
       "    <tr>\n",
       "      <th>28</th>\n",
       "      <td>221</td>\n",
       "      <td>Iran|Iran</td>\n",
       "    </tr>\n",
       "    <tr>\n",
       "      <th>29</th>\n",
       "      <td>220</td>\n",
       "      <td>United States|United States</td>\n",
       "    </tr>\n",
       "    <tr>\n",
       "      <th>...</th>\n",
       "      <td>...</td>\n",
       "      <td>...</td>\n",
       "    </tr>\n",
       "    <tr>\n",
       "      <th>1005</th>\n",
       "      <td>1</td>\n",
       "      <td>Jordan, excavated Church on the Acropolis, Ma'in</td>\n",
       "    </tr>\n",
       "    <tr>\n",
       "      <th>1006</th>\n",
       "      <td>1</td>\n",
       "      <td>Central or Southern India or Sri Lanka</td>\n",
       "    </tr>\n",
       "    <tr>\n",
       "      <th>1007</th>\n",
       "      <td>1</td>\n",
       "      <td>France?/USA?</td>\n",
       "    </tr>\n",
       "    <tr>\n",
       "      <th>1008</th>\n",
       "      <td>1</td>\n",
       "      <td>Bulgaria (possibly)</td>\n",
       "    </tr>\n",
       "    <tr>\n",
       "      <th>1009</th>\n",
       "      <td>1</td>\n",
       "      <td>North India or Deccan</td>\n",
       "    </tr>\n",
       "    <tr>\n",
       "      <th>1010</th>\n",
       "      <td>1</td>\n",
       "      <td>the Iberian peninsula (Spain)</td>\n",
       "    </tr>\n",
       "    <tr>\n",
       "      <th>1011</th>\n",
       "      <td>1</td>\n",
       "      <td>China or Japan</td>\n",
       "    </tr>\n",
       "    <tr>\n",
       "      <th>1012</th>\n",
       "      <td>1</td>\n",
       "      <td>possibly Iran or Egypt</td>\n",
       "    </tr>\n",
       "    <tr>\n",
       "      <th>1013</th>\n",
       "      <td>1</td>\n",
       "      <td>United States|Italy</td>\n",
       "    </tr>\n",
       "    <tr>\n",
       "      <th>1014</th>\n",
       "      <td>1</td>\n",
       "      <td>India|United States</td>\n",
       "    </tr>\n",
       "    <tr>\n",
       "      <th>1015</th>\n",
       "      <td>1</td>\n",
       "      <td>Italian?</td>\n",
       "    </tr>\n",
       "    <tr>\n",
       "      <th>1016</th>\n",
       "      <td>1</td>\n",
       "      <td>India|present-day Afghanistan or Iran</td>\n",
       "    </tr>\n",
       "    <tr>\n",
       "      <th>1017</th>\n",
       "      <td>1</td>\n",
       "      <td>Indonesia or Malaysia</td>\n",
       "    </tr>\n",
       "    <tr>\n",
       "      <th>1018</th>\n",
       "      <td>1</td>\n",
       "      <td>Amman</td>\n",
       "    </tr>\n",
       "    <tr>\n",
       "      <th>1019</th>\n",
       "      <td>1</td>\n",
       "      <td>Central India or Sri Lanka</td>\n",
       "    </tr>\n",
       "    <tr>\n",
       "      <th>1020</th>\n",
       "      <td>1</td>\n",
       "      <td>probably China|Iraq</td>\n",
       "    </tr>\n",
       "    <tr>\n",
       "      <th>1021</th>\n",
       "      <td>1</td>\n",
       "      <td>Burkina Faso or Ghana</td>\n",
       "    </tr>\n",
       "    <tr>\n",
       "      <th>1022</th>\n",
       "      <td>1</td>\n",
       "      <td>Ireland|United States</td>\n",
       "    </tr>\n",
       "    <tr>\n",
       "      <th>1023</th>\n",
       "      <td>1</td>\n",
       "      <td>Egypt, Memphite Region, Saqqara probably</td>\n",
       "    </tr>\n",
       "    <tr>\n",
       "      <th>1024</th>\n",
       "      <td>1</td>\n",
       "      <td>Turkey|India</td>\n",
       "    </tr>\n",
       "    <tr>\n",
       "      <th>1025</th>\n",
       "      <td>1</td>\n",
       "      <td>Chile or Peru</td>\n",
       "    </tr>\n",
       "    <tr>\n",
       "      <th>1026</th>\n",
       "      <td>1</td>\n",
       "      <td>probably Afghanistan</td>\n",
       "    </tr>\n",
       "    <tr>\n",
       "      <th>1027</th>\n",
       "      <td>1</td>\n",
       "      <td>Probably Germany</td>\n",
       "    </tr>\n",
       "    <tr>\n",
       "      <th>1028</th>\n",
       "      <td>1</td>\n",
       "      <td>possibly Guatemala</td>\n",
       "    </tr>\n",
       "    <tr>\n",
       "      <th>1029</th>\n",
       "      <td>1</td>\n",
       "      <td>Probably northern Syria</td>\n",
       "    </tr>\n",
       "    <tr>\n",
       "      <th>1030</th>\n",
       "      <td>1</td>\n",
       "      <td>Probably Gaul</td>\n",
       "    </tr>\n",
       "    <tr>\n",
       "      <th>1031</th>\n",
       "      <td>1</td>\n",
       "      <td>Germany or South Germany</td>\n",
       "    </tr>\n",
       "    <tr>\n",
       "      <th>1032</th>\n",
       "      <td>1</td>\n",
       "      <td>West Central Turkey</td>\n",
       "    </tr>\n",
       "    <tr>\n",
       "      <th>1033</th>\n",
       "      <td>1</td>\n",
       "      <td>Norway?</td>\n",
       "    </tr>\n",
       "    <tr>\n",
       "      <th>1034</th>\n",
       "      <td>1</td>\n",
       "      <td>Burma?</td>\n",
       "    </tr>\n",
       "  </tbody>\n",
       "</table>\n",
       "<p>1035 rows × 2 columns</p>\n",
       "</div>"
      ],
      "text/plain": [
       "      Count                                           Country\n",
       "0     30914                                             Egypt\n",
       "1      8501                                     United States\n",
       "2      5886                                              Iran\n",
       "3      3422                                              Peru\n",
       "4      1673                                   Byzantine Egypt\n",
       "5      1670                                            France\n",
       "6      1537                                            Mexico\n",
       "7      1440                                             India\n",
       "8      1394                                         Indonesia\n",
       "9      1059                                           England\n",
       "10      918                                             China\n",
       "11      888                                           Germany\n",
       "12      851                                  Papua New Guinea\n",
       "13      826                                            Turkey\n",
       "14      637                                           Nigeria\n",
       "15      523                                             Italy\n",
       "16      519                  Democratic Republic of the Congo\n",
       "17      480                                             Syria\n",
       "18      441                                             Spain\n",
       "19      397                                              Iraq\n",
       "20      391                                            Canada\n",
       "21      353                                              Mali\n",
       "22      336                                          Colombia\n",
       "23      302                                     Côte d'Ivoire\n",
       "24      300                                    Egypt or Syria\n",
       "25      278                                           America\n",
       "26      250                                          Cameroon\n",
       "27      238                                             Japan\n",
       "28      221                                         Iran|Iran\n",
       "29      220                       United States|United States\n",
       "...     ...                                               ...\n",
       "1005      1  Jordan, excavated Church on the Acropolis, Ma'in\n",
       "1006      1            Central or Southern India or Sri Lanka\n",
       "1007      1                                      France?/USA?\n",
       "1008      1                               Bulgaria (possibly)\n",
       "1009      1                             North India or Deccan\n",
       "1010      1                     the Iberian peninsula (Spain)\n",
       "1011      1                                    China or Japan\n",
       "1012      1                            possibly Iran or Egypt\n",
       "1013      1                               United States|Italy\n",
       "1014      1                               India|United States\n",
       "1015      1                                          Italian?\n",
       "1016      1             India|present-day Afghanistan or Iran\n",
       "1017      1                             Indonesia or Malaysia\n",
       "1018      1                                             Amman\n",
       "1019      1                        Central India or Sri Lanka\n",
       "1020      1                               probably China|Iraq\n",
       "1021      1                             Burkina Faso or Ghana\n",
       "1022      1                             Ireland|United States\n",
       "1023      1          Egypt, Memphite Region, Saqqara probably\n",
       "1024      1                                      Turkey|India\n",
       "1025      1                                     Chile or Peru\n",
       "1026      1                              probably Afghanistan\n",
       "1027      1                                  Probably Germany\n",
       "1028      1                                possibly Guatemala\n",
       "1029      1                           Probably northern Syria\n",
       "1030      1                                     Probably Gaul\n",
       "1031      1                          Germany or South Germany\n",
       "1032      1                               West Central Turkey\n",
       "1033      1                                           Norway?\n",
       "1034      1                                            Burma?\n",
       "\n",
       "[1035 rows x 2 columns]"
      ]
     },
     "execution_count": 4,
     "metadata": {},
     "output_type": "execute_result"
    }
   ],
   "source": [
    "sCountry = pd.DataFrame(data['Country'].value_counts())\n",
    "sCountry.columns = ['Count']\n",
    "sCountry['Country'] = sCountry.index.tolist()\n",
    "sCountry.sort_values(by=\"Count\",ascending=False)\n",
    "sCountry = sCountry.reset_index(drop=True)\n",
    "sCountry"
   ]
  },
  {
   "cell_type": "markdown",
   "metadata": {},
   "source": [
    "###### Choosing the countries that contributed with at least 100 pieces"
   ]
  },
  {
   "cell_type": "code",
   "execution_count": 5,
   "metadata": {
    "collapsed": false,
    "scrolled": true
   },
   "outputs": [],
   "source": [
    "#The following two lines are important to use plotly offline\n",
    "from plotly.offline import download_plotlyjs, init_notebook_mode, plot, iplot\n",
    "import plotly.graph_objs as go"
   ]
  },
  {
   "cell_type": "code",
   "execution_count": 6,
   "metadata": {
    "collapsed": false
   },
   "outputs": [
    {
     "data": {
      "text/html": [
       "<script>requirejs.config({paths: { 'plotly': ['https://cdn.plot.ly/plotly-latest.min']},});if(!window.Plotly) {{require(['plotly'],function(plotly) {window.Plotly=plotly;});}}</script>"
      ],
      "text/plain": [
       "<IPython.core.display.HTML object>"
      ]
     },
     "metadata": {},
     "output_type": "display_data"
    },
    {
     "data": {
      "application/vnd.plotly.v1+json": {
       "data": [
        {
         "labels": [
          "Egypt",
          "United States",
          "Iran",
          "Peru",
          "Byzantine Egypt",
          "France",
          "Mexico",
          "India",
          "Indonesia",
          "England",
          "China",
          "Germany",
          "Papua New Guinea",
          "Turkey",
          "Nigeria",
          "Italy",
          "Democratic Republic of the Congo",
          "Syria",
          "Spain",
          "Iraq",
          "Canada",
          "Mali",
          "Colombia",
          "Côte d'Ivoire",
          "Egypt or Syria",
          "America",
          "Cameroon",
          "Japan",
          "Iran|Iran",
          "United States|United States",
          "United Kingdom",
          "Costa Rica",
          "present-day France",
          "Morocco",
          "Ghana",
          "Bolivia",
          "Northern France",
          "Ecuador",
          "United States|England",
          "Saudi Arabia",
          "Austria",
          "Republic of Benin",
          "Panama"
         ],
         "type": "pie",
         "values": [
          30914,
          8501,
          5886,
          3422,
          1673,
          1670,
          1537,
          1440,
          1394,
          1059,
          918,
          888,
          851,
          826,
          637,
          523,
          519,
          480,
          441,
          397,
          391,
          353,
          336,
          302,
          300,
          278,
          250,
          238,
          221,
          220,
          207,
          203,
          178,
          167,
          165,
          162,
          137,
          130,
          129,
          122,
          122,
          119,
          103
         ]
        }
       ],
       "layout": {}
      },
      "text/html": [
       "<div id=\"1bd12713-1717-46f8-8ed9-e2a48554623b\" style=\"height: 525px; width: 100%;\" class=\"plotly-graph-div\"></div><script type=\"text/javascript\">require([\"plotly\"], function(Plotly) { window.PLOTLYENV=window.PLOTLYENV || {};window.PLOTLYENV.BASE_URL=\"https://plot.ly\";Plotly.newPlot(\"1bd12713-1717-46f8-8ed9-e2a48554623b\", [{\"type\": \"pie\", \"values\": [30914, 8501, 5886, 3422, 1673, 1670, 1537, 1440, 1394, 1059, 918, 888, 851, 826, 637, 523, 519, 480, 441, 397, 391, 353, 336, 302, 300, 278, 250, 238, 221, 220, 207, 203, 178, 167, 165, 162, 137, 130, 129, 122, 122, 119, 103], \"labels\": [\"Egypt\", \"United States\", \"Iran\", \"Peru\", \"Byzantine Egypt\", \"France\", \"Mexico\", \"India\", \"Indonesia\", \"England\", \"China\", \"Germany\", \"Papua New Guinea\", \"Turkey\", \"Nigeria\", \"Italy\", \"Democratic Republic of the Congo\", \"Syria\", \"Spain\", \"Iraq\", \"Canada\", \"Mali\", \"Colombia\", \"C\\u00f4te d'Ivoire\", \"Egypt or Syria\", \"America\", \"Cameroon\", \"Japan\", \"Iran|Iran\", \"United States|United States\", \"United Kingdom\", \"Costa Rica\", \"present-day France\", \"Morocco\", \"Ghana\", \"Bolivia\", \"Northern France\", \"Ecuador\", \"United States|England\", \"Saudi Arabia\", \"Austria\", \"Republic of Benin\", \"Panama\"]}], {}, {\"linkText\": \"Export to plot.ly\", \"showLink\": true})});</script>"
      ]
     },
     "metadata": {},
     "output_type": "display_data"
    }
   ],
   "source": [
    "plt.figure(figsize=(80,80))\n",
    "temp = sCountry[sCountry['Count']>=100]\n",
    "init_notebook_mode(connected=True)\n",
    "labels=temp['Country']\n",
    "values=temp['Count']\n",
    "trace=go.Pie(labels=labels,values=values)\n",
    "\n",
    "iplot([trace])"
   ]
  },
  {
   "cell_type": "markdown",
   "metadata": {},
   "source": [
    "### Where the artworks are coming from? \n",
    "From this pie chart, it looks like that almost 45% of the artworks at the MET are coming from Egypt, the U.S and Iran. "
   ]
  },
  {
   "cell_type": "code",
   "execution_count": 7,
   "metadata": {
    "collapsed": false
   },
   "outputs": [
    {
     "data": {
      "text/plain": [
       "Index(['﻿Object Number', 'Is Highlight', 'Is Public Domain', 'Object ID',\n",
       "       'Department', 'Object Name', 'Title', 'Culture', 'Period', 'Dynasty',\n",
       "       'Reign', 'Portfolio', 'Artist Role', 'Artist Prefix',\n",
       "       'Artist Display Name', 'Artist Display Bio', 'Artist Suffix',\n",
       "       'Artist Alpha Sort', 'Artist Nationality', 'Artist Begin Date',\n",
       "       'Artist End Date', 'Object Date', 'Object Begin Date',\n",
       "       'Object End Date', 'Medium', 'Dimensions', 'Credit Line',\n",
       "       'Geography Type', 'City', 'State', 'County', 'Country', 'Region',\n",
       "       'Subregion', 'Locale', 'Locus', 'Excavation', 'River', 'Classification',\n",
       "       'Rights and Reproduction', 'Link Resource', 'Metadata Date',\n",
       "       'Repository'],\n",
       "      dtype='object')"
      ]
     },
     "execution_count": 7,
     "metadata": {},
     "output_type": "execute_result"
    }
   ],
   "source": [
    "data.keys()"
   ]
  },
  {
   "cell_type": "markdown",
   "metadata": {},
   "source": [
    "# Which artists is the MET interested in?"
   ]
  },
  {
   "cell_type": "code",
   "execution_count": 8,
   "metadata": {
    "collapsed": false,
    "scrolled": false
   },
   "outputs": [
    {
     "data": {
      "text/html": [
       "<div>\n",
       "<table border=\"1\" class=\"dataframe\">\n",
       "  <thead>\n",
       "    <tr style=\"text-align: right;\">\n",
       "      <th></th>\n",
       "      <th>Count</th>\n",
       "      <th>Name</th>\n",
       "    </tr>\n",
       "  </thead>\n",
       "  <tbody>\n",
       "    <tr>\n",
       "      <th>0</th>\n",
       "      <td>9659</td>\n",
       "      <td>Walker Evans</td>\n",
       "    </tr>\n",
       "    <tr>\n",
       "      <th>1</th>\n",
       "      <td>4282</td>\n",
       "      <td>Kinney Brothers</td>\n",
       "    </tr>\n",
       "    <tr>\n",
       "      <th>2</th>\n",
       "      <td>3184</td>\n",
       "      <td>Allen &amp; Ginter</td>\n",
       "    </tr>\n",
       "    <tr>\n",
       "      <th>3</th>\n",
       "      <td>3148</td>\n",
       "      <td>W. Duke, Sons &amp; Co.</td>\n",
       "    </tr>\n",
       "    <tr>\n",
       "      <th>4</th>\n",
       "      <td>2747</td>\n",
       "      <td>Goodwin &amp; Company</td>\n",
       "    </tr>\n",
       "  </tbody>\n",
       "</table>\n",
       "</div>"
      ],
      "text/plain": [
       "   Count                 Name\n",
       "0   9659         Walker Evans\n",
       "1   4282      Kinney Brothers\n",
       "2   3184       Allen & Ginter\n",
       "3   3148  W. Duke, Sons & Co.\n",
       "4   2747    Goodwin & Company"
      ]
     },
     "execution_count": 8,
     "metadata": {},
     "output_type": "execute_result"
    }
   ],
   "source": [
    "sArtist = pd.DataFrame(data['Artist Display Name'].value_counts())\n",
    "sArtist.columns=['Count']\n",
    "sArtist['Name'] = sArtist.index.tolist()\n",
    "sArtist.sort_values(by=\"Count\",ascending=False)\n",
    "sArtist = sArtist.reset_index(drop=True)\n",
    "sArtist.head(5)"
   ]
  },
  {
   "cell_type": "markdown",
   "metadata": {},
   "source": [
    "### Visualizing artists with at least 1000 art pieces"
   ]
  },
  {
   "cell_type": "code",
   "execution_count": 9,
   "metadata": {
    "collapsed": false
   },
   "outputs": [
    {
     "data": {
      "text/html": [
       "<script>requirejs.config({paths: { 'plotly': ['https://cdn.plot.ly/plotly-latest.min']},});if(!window.Plotly) {{require(['plotly'],function(plotly) {window.Plotly=plotly;});}}</script>"
      ],
      "text/plain": [
       "<IPython.core.display.HTML object>"
      ]
     },
     "metadata": {},
     "output_type": "display_data"
    },
    {
     "data": {
      "application/vnd.plotly.v1+json": {
       "data": [
        {
         "labels": [
          "Walker Evans",
          "Kinney Brothers",
          "Allen & Ginter",
          "W. Duke, Sons & Co.",
          "Goodwin & Company",
          "Unknown",
          "Brewster & Co.",
          "American Tobacco Company",
          "Bowman Gum Company",
          "Topps Chewing Gum Company",
          "Goudey Gum Company",
          "Reginald Marsh"
         ],
         "type": "pie",
         "values": [
          9659,
          4282,
          3184,
          3148,
          2747,
          2581,
          2296,
          1993,
          1992,
          1232,
          1208,
          1007
         ]
        }
       ],
       "layout": {}
      },
      "text/html": [
       "<div id=\"f9465edb-438b-44b5-9956-69c468d69ffa\" style=\"height: 525px; width: 100%;\" class=\"plotly-graph-div\"></div><script type=\"text/javascript\">require([\"plotly\"], function(Plotly) { window.PLOTLYENV=window.PLOTLYENV || {};window.PLOTLYENV.BASE_URL=\"https://plot.ly\";Plotly.newPlot(\"f9465edb-438b-44b5-9956-69c468d69ffa\", [{\"type\": \"pie\", \"values\": [9659, 4282, 3184, 3148, 2747, 2581, 2296, 1993, 1992, 1232, 1208, 1007], \"labels\": [\"Walker Evans\", \"Kinney Brothers\", \"Allen & Ginter\", \"W. Duke, Sons & Co.\", \"Goodwin & Company\", \"Unknown\", \"Brewster & Co.\", \"American Tobacco Company\", \"Bowman Gum Company\", \"Topps Chewing Gum Company\", \"Goudey Gum Company\", \"Reginald Marsh\"]}], {}, {\"linkText\": \"Export to plot.ly\", \"showLink\": true})});</script>"
      ]
     },
     "metadata": {},
     "output_type": "display_data"
    }
   ],
   "source": [
    "plt.figure(figsize=(80,80))\n",
    "temp = sArtist[sArtist['Count']>=1000]\n",
    "init_notebook_mode(connected=True)\n",
    "labels=temp['Name']\n",
    "values=temp['Count']\n",
    "trace=go.Pie(labels=labels,values=values)\n",
    "\n",
    "iplot([trace])"
   ]
  },
  {
   "cell_type": "markdown",
   "metadata": {},
   "source": [
    "### Which artists is the MET interested in?\n",
    "Artwrorks by Walker Evans seem to dominate a good porition of the display space at the MET, followed by Kinney Brothers and Allen & Ginter."
   ]
  },
  {
   "cell_type": "markdown",
   "metadata": {},
   "source": [
    "# Which department hosts the largest number of artworks?"
   ]
  },
  {
   "cell_type": "code",
   "execution_count": 10,
   "metadata": {
    "collapsed": false
   },
   "outputs": [
    {
     "data": {
      "text/html": [
       "<div>\n",
       "<table border=\"1\" class=\"dataframe\">\n",
       "  <thead>\n",
       "    <tr style=\"text-align: right;\">\n",
       "      <th></th>\n",
       "      <th>Count</th>\n",
       "      <th>Name</th>\n",
       "    </tr>\n",
       "  </thead>\n",
       "  <tbody>\n",
       "    <tr>\n",
       "      <th>0</th>\n",
       "      <td>154445</td>\n",
       "      <td>Drawings and Prints</td>\n",
       "    </tr>\n",
       "    <tr>\n",
       "      <th>1</th>\n",
       "      <td>42528</td>\n",
       "      <td>European Sculpture and Decorative Arts</td>\n",
       "    </tr>\n",
       "    <tr>\n",
       "      <th>2</th>\n",
       "      <td>36727</td>\n",
       "      <td>Asian Art</td>\n",
       "    </tr>\n",
       "    <tr>\n",
       "      <th>3</th>\n",
       "      <td>36258</td>\n",
       "      <td>Photographs</td>\n",
       "    </tr>\n",
       "    <tr>\n",
       "      <th>4</th>\n",
       "      <td>33681</td>\n",
       "      <td>Costume Institute</td>\n",
       "    </tr>\n",
       "  </tbody>\n",
       "</table>\n",
       "</div>"
      ],
      "text/plain": [
       "    Count                                    Name\n",
       "0  154445                     Drawings and Prints\n",
       "1   42528  European Sculpture and Decorative Arts\n",
       "2   36727                               Asian Art\n",
       "3   36258                             Photographs\n",
       "4   33681                       Costume Institute"
      ]
     },
     "execution_count": 10,
     "metadata": {},
     "output_type": "execute_result"
    }
   ],
   "source": [
    "sDpt = pd.DataFrame(data['Department'].value_counts())\n",
    "sDpt.columns=['Count']\n",
    "sDpt['Name'] = sDpt.index.tolist()\n",
    "sDpt.sort_values(by=\"Count\",ascending=False)\n",
    "sDpt = sDpt.reset_index(drop=True)\n",
    "sDpt.head(5)"
   ]
  },
  {
   "cell_type": "code",
   "execution_count": 11,
   "metadata": {
    "collapsed": false
   },
   "outputs": [
    {
     "data": {
      "text/html": [
       "<script>requirejs.config({paths: { 'plotly': ['https://cdn.plot.ly/plotly-latest.min']},});if(!window.Plotly) {{require(['plotly'],function(plotly) {window.Plotly=plotly;});}}</script>"
      ],
      "text/plain": [
       "<IPython.core.display.HTML object>"
      ]
     },
     "metadata": {},
     "output_type": "display_data"
    },
    {
     "data": {
      "application/vnd.plotly.v1+json": {
       "data": [
        {
         "labels": [
          "Drawings and Prints",
          "European Sculpture and Decorative Arts",
          "Asian Art",
          "Photographs",
          "Costume Institute",
          "Egyptian Art",
          "Greek and Roman Art",
          "Islamic Art",
          "Modern and Contemporary Art",
          "Arms and Armor",
          "Arts of Africa, Oceania, and the Americas",
          "American Decorative Arts",
          "Medieval Art",
          "Ancient Near Eastern Art",
          "American Paintings and Sculpture",
          "Musical Instruments",
          "European Paintings",
          "The Cloisters",
          "Robert Lehman Collection"
         ],
         "type": "pie",
         "values": [
          154445,
          42528,
          36727,
          36258,
          33681,
          27542,
          17292,
          15082,
          13991,
          13486,
          12427,
          12330,
          7343,
          6185,
          5451,
          5303,
          2760,
          2628,
          2589
         ]
        }
       ],
       "layout": {}
      },
      "text/html": [
       "<div id=\"6e35ca46-5a1e-4692-80a9-d45a1fd518bc\" style=\"height: 525px; width: 100%;\" class=\"plotly-graph-div\"></div><script type=\"text/javascript\">require([\"plotly\"], function(Plotly) { window.PLOTLYENV=window.PLOTLYENV || {};window.PLOTLYENV.BASE_URL=\"https://plot.ly\";Plotly.newPlot(\"6e35ca46-5a1e-4692-80a9-d45a1fd518bc\", [{\"type\": \"pie\", \"values\": [154445, 42528, 36727, 36258, 33681, 27542, 17292, 15082, 13991, 13486, 12427, 12330, 7343, 6185, 5451, 5303, 2760, 2628, 2589], \"labels\": [\"Drawings and Prints\", \"European Sculpture and Decorative Arts\", \"Asian Art\", \"Photographs\", \"Costume Institute\", \"Egyptian Art\", \"Greek and Roman Art\", \"Islamic Art\", \"Modern and Contemporary Art\", \"Arms and Armor\", \"Arts of Africa, Oceania, and the Americas\", \"American Decorative Arts\", \"Medieval Art\", \"Ancient Near Eastern Art\", \"American Paintings and Sculpture\", \"Musical Instruments\", \"European Paintings\", \"The Cloisters\", \"Robert Lehman Collection\"]}], {}, {\"linkText\": \"Export to plot.ly\", \"showLink\": true})});</script>"
      ]
     },
     "metadata": {},
     "output_type": "display_data"
    }
   ],
   "source": [
    "plt.figure(figsize=(80,80))\n",
    "temp = sDpt[sDpt['Count']>=1000]\n",
    "init_notebook_mode(connected=True)\n",
    "labels=temp['Name']\n",
    "values=temp['Count']\n",
    "trace=go.Pie(labels=labels,values=values)\n",
    "\n",
    "iplot([trace])"
   ]
  },
  {
   "cell_type": "markdown",
   "metadata": {},
   "source": [
    "### Which department hosts the largest number of artworks?\n",
    "It looks like \"Drawings and prints\" department holds roughly 35% of the artworks presented at the MET."
   ]
  }
 ],
 "metadata": {
  "anaconda-cloud": {},
  "kernelspec": {
   "display_name": "Python [conda root]",
   "language": "python",
   "name": "conda-root-py"
  },
  "language_info": {
   "codemirror_mode": {
    "name": "ipython",
    "version": 3
   },
   "file_extension": ".py",
   "mimetype": "text/x-python",
   "name": "python",
   "nbconvert_exporter": "python",
   "pygments_lexer": "ipython3",
   "version": "3.5.2"
  }
 },
 "nbformat": 4,
 "nbformat_minor": 1
}
